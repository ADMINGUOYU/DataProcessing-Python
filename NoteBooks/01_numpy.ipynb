{
 "cells": [
  {
   "cell_type": "markdown",
   "id": "807ac735",
   "metadata": {},
   "source": [
    "## **Numpy** - Numerical Python\n",
    "\n",
    "**NumPy** *(pronounced /ˈnʌmpaɪ/ NUM-py)* is a library for the Python programming language, adding support for large, multi-dimensional arrays and matrices, along with a large collection of high-level mathematical functions to operate on these arrays. The predecessor of NumPy, Numeric, was originally created by Jim Hugunin with contributions from several other developers. In 2005, Travis Oliphant created NumPy by incorporating features of the competing Numarray into Numeric, with extensive modifications. NumPy is open-source software and has many contributors. NumPy is fiscally sponsored by NumFOCUS. [wikipedia-numpy](https://en.wikipedia.org/wiki/NumPy)\n",
    "\n",
    "---\n",
    "### Resources\n",
    "* [Official Page](https://numpy.org/)\n",
    "* [Official Docs](https://numpy.org/doc/stable/)\n",
    "* Lecture Notes *(refer to ../LectureNotes(HKUST)/12-numpy.pdf)*"
   ]
  },
  {
   "cell_type": "markdown",
   "id": "7bee2d2a",
   "metadata": {},
   "source": [
    "### Install & Test"
   ]
  },
  {
   "cell_type": "code",
   "execution_count": 1,
   "id": "5b63dc1d",
   "metadata": {},
   "outputs": [],
   "source": [
    "\"\"\"\n",
    "To use numpy, you have to install it first.\n",
    "In Jupiter notebook, type: \n",
    "\"\"\"\n",
    "# %pip install numpy\n",
    "\"\"\" \n",
    "to install in virtual environments (i.e. venv) \n",
    "Or, type: \n",
    "\"\"\"\n",
    "# !pip install numpy\n",
    "\"\"\"\n",
    "to install globally.\n",
    "Examples shown here are commented out, to execute,\n",
    "simply remove leading '#'.\n",
    "\"\"\"\n",
    "pass"
   ]
  },
  {
   "cell_type": "code",
   "execution_count": 2,
   "id": "1c0214f3",
   "metadata": {},
   "outputs": [
    {
     "name": "stdout",
     "output_type": "stream",
     "text": [
      "2.3.1\n"
     ]
    }
   ],
   "source": [
    "# Then, we have to import numpy library\n",
    "import numpy\n",
    "# Let's verify numpy's version\n",
    "print(numpy.version.__version__)"
   ]
  },
  {
   "cell_type": "code",
   "execution_count": 3,
   "id": "b80c080f",
   "metadata": {},
   "outputs": [
    {
     "name": "stdout",
     "output_type": "stream",
     "text": [
      "2.3.1\n"
     ]
    }
   ],
   "source": [
    "# p.s. You can create a nickname when you import a Python library\n",
    "# For numpy, we typically use 'np'.\n",
    "import numpy as np\n",
    "# Now, the code below does exactly the same thing (checking the version)\n",
    "print(np.version.__version__)\n",
    "\n",
    "# If you wish to have a customized name, you can:\n",
    "import numpy as candy"
   ]
  },
  {
   "cell_type": "markdown",
   "id": "4dac03a5",
   "metadata": {},
   "source": [
    "### Numbers | *Or precisely, multidimensional array*"
   ]
  },
  {
   "cell_type": "code",
   "execution_count": 4,
   "id": "55934fa3",
   "metadata": {},
   "outputs": [
    {
     "name": "stdout",
     "output_type": "stream",
     "text": [
      "Scalar:\n",
      "\tshape: ()\n",
      "\tsize: 1\n",
      "\titem: 10\n",
      "Array:\n",
      "\tshape: (4,)\n",
      "\tsize: 4\n",
      "\titem: 4.0\n",
      "Matrix:\n",
      "\tshape: (4, 3)\n",
      "\tsize: 12\n",
      "\titem: 4\n"
     ]
    }
   ],
   "source": [
    "import numpy\n",
    "\n",
    "# A single value scalar\n",
    "# Note: ':numpy.ndarray' is type hinting, like 'int <variable>' in C\n",
    "# However, Python uses dynamic typing meaning that what you specified is\n",
    "# just a 'hint'. The actual type may vary.\n",
    "scalar:numpy.ndarray = numpy.array(object = 10)\n",
    "print(f\"Scalar:\\n\\tshape: {scalar.shape}\\n\\tsize: {scalar.size}\\n\\titem: {scalar.item()}\")\n",
    "\"\"\"\n",
    "Note that: If no arguments are provided, item() only works for arrays with a single element (a.size == 1).\n",
    "It returns that single element.\n",
    "\"\"\"\n",
    "\n",
    "# 1-D array\n",
    "# dtype is the short for 'data type'. You can specify the type of data\n",
    "# Similarly, in C you have int[], float[], double[]\n",
    "# p.s. 'float32' is 32 bit (not byte) floating point number.\n",
    "# You can create a numpy ndarray using Python Tuple -> (a, b, c, ...) and List -> [a, b, c, ...]\n",
    "array = numpy.array(object = (1, 2, 3, 4), dtype = numpy.float32)\n",
    "# You can also create a continuous array faster (following code does exactly the same thing as previous).\n",
    "\"\"\"\n",
    "p.s. astype() function, by default, always returns a newly allocated array\n",
    "in the specified data type.\n",
    "\"\"\"\n",
    "array = numpy.arange(start = 1, stop = 5).astype(dtype = numpy.float32) \n",
    "print(f\"Array:\\n\\tshape: {array.shape}\\n\\tsize: {array.size}\\n\\titem: {array.item(3)}\")\n",
    "\n",
    "# 2-D array (Matrix)\n",
    "matrix = numpy.array(object = [[1, 2, 3], [4, 5, 6], [7, 8, 9], [10, 11, 12]])\n",
    "# You can also use arange() here\n",
    "# The following code have the same effect as above.\n",
    "# p.s. arange() will ONLY create a 1-D array, so use reshape() to set up higher dimension\n",
    "matrix = numpy.arange(start = 1, stop = 13).reshape((4, 3))\n",
    "print(f\"Matrix:\\n\\tshape: {matrix.shape}\\n\\tsize: {matrix.size}\\n\\titem: {matrix.item(3)}\")\n",
    "\n",
    "# For n-D, it's basically the same."
   ]
  },
  {
   "cell_type": "markdown",
   "id": "6342794f",
   "metadata": {},
   "source": [
    "### Indexing | *Finding the right ONE? or MANY!*"
   ]
  },
  {
   "cell_type": "code",
   "execution_count": 5,
   "id": "d3e470f5",
   "metadata": {},
   "outputs": [
    {
     "name": "stdout",
     "output_type": "stream",
     "text": [
      "Index:\n",
      "\t(0, 0) = 1\n",
      "\t(1, 1) = 5\n",
      "\t(2, 1) = 8\n",
      "\t(2, 1) = [the 8th element, flatten index 7] 8\n",
      "Matrix (original):\n",
      "[[ 1  2  3]\n",
      " [ 4  5  6]\n",
      " [ 7  8  9]\n",
      " [10 11 12]]\n",
      "Selected:\n",
      "[[1 2 3]\n",
      " [4 5 6]\n",
      " [7 8 9]]\n",
      "Matrix (original):\n",
      "[[ 1  2  3]\n",
      " [ 4 50  6]\n",
      " [ 7  8  9]\n",
      " [10 11 12]]\n",
      "Mask (> 10):\n",
      "[[False False False]\n",
      " [False  True False]\n",
      " [False False False]\n",
      " [False  True  True]]\n",
      "Matrix (> 10):\n",
      "[50 11 12]\n"
     ]
    }
   ],
   "source": [
    "import numpy\n",
    "\n",
    "matrix = numpy.array(object = [[1, 2, 3], [4, 5, 6], [7, 8, 9], [10, 11, 12]])\n",
    "\n",
    "# Indexing like in C\n",
    "print(f\"Index:\\n\\t\\\n",
    "(0, 0) = {matrix[0][0]}\\n\\t\\\n",
    "(1, 1) = {matrix[1, 1]}\\n\\t\\\n",
    "(2, 1) = {matrix.item((2, 1))}\\n\\t\\\n",
    "(2, 1) = [the 8th element, flatten index 7] {matrix.item(7)}\")\n",
    "# p.s. [ x , y ] for integer x and y, it's the same as [x][y]\n",
    "# for [ ... , ... , ... ] notation, we'll discuss later (slicing)\n",
    "\n",
    "# Slicing (or selecting)\n",
    "selected = matrix[ 0 : -1 : 1 , : ]\n",
    "print(\"Matrix (original):\\n\", matrix, sep = '')\n",
    "print(\"Selected:\\n\", selected, sep = '')\n",
    "# Slicing returns you a VIEW: if you change the VIEW,\n",
    "# the originals will be changed as well:\n",
    "selected[1, 1] = 50\n",
    "print(\"Matrix (original):\\n\", matrix, sep = '')\n",
    "\"\"\"\n",
    "Note that:\n",
    "Standard notation of slicing (selecting) is: [ a : b : c , ...<next dimension>... ]\n",
    "Which means:\n",
    "At current dimension, select a -> b, a is included, b is excluded [a, b);\n",
    "c is stepping, (see example below):\n",
    "[ 1, 2, 3, 4, 5, 6 ] select the whole array with stepping c = 3 gives you:\n",
    "[ 1,       4,      ], if c = 2 gives you:\n",
    "[ 1,    3,    5,   ]\n",
    "\n",
    "\"\"\"\n",
    "\n",
    "# Masking (randomly select by a certain critera)\n",
    "mask = matrix > 10\n",
    "print(\"Mask (> 10):\\n\", mask, sep = '')\n",
    "print(\"Matrix (> 10):\\n\", matrix[mask], sep = '')\n",
    "\n",
    "\"\"\"\n",
    "p.s. Something useful\n",
    "numpy.where()\n",
    "Applies a condition and returns elements from one array if the condition is true, \n",
    "and from another if false.\n",
    "\"\"\"\n",
    "pass"
   ]
  },
  {
   "attachments": {
    "image.png": {
     "image/png": "[encoded data removed]"
    }
   },
   "cell_type": "markdown",
   "id": "2c8ca45b",
   "metadata": {},
   "source": [
    "What I mean by \"selecting\":\n",
    "(Like you use a mouse to select a piece of text.)\n",
    "\n",
    "![image.png](attachment:image.png)"
   ]
  },
  {
   "cell_type": "markdown",
   "id": "2525a899",
   "metadata": {},
   "source": [
    "### Operations | *'+', '-', '\\*', '/', 'dot_product'*"
   ]
  },
  {
   "cell_type": "markdown",
   "id": "fe02afda",
   "metadata": {},
   "source": [
    "Basic Operations (Element-wise)"
   ]
  },
  {
   "cell_type": "code",
   "execution_count": 6,
   "id": "4982bd58",
   "metadata": {},
   "outputs": [
    {
     "name": "stdout",
     "output_type": "stream",
     "text": [
      "---------- Visualize Data ----------\n",
      "data1:\n",
      "[[ 0  1  2  3]\n",
      " [ 4  5  6  7]\n",
      " [ 8  9 10 11]]\n",
      "data2:\n",
      "[1 2 3 4]\n",
      "------------- Addition -------------\n",
      "result(data1 + data2):\n",
      "[[ 1  3  5  7]\n",
      " [ 5  7  9 11]\n",
      " [ 9 11 13 15]]\n",
      "---------- Multiplication ----------\n",
      "result(data1 * data2):\n",
      "[[ 0  2  6 12]\n",
      " [ 4 10 18 28]\n",
      " [ 8 18 30 44]]\n",
      "------------- Division -------------\n",
      "result(data1 / data2):\n",
      "[[0.         0.5        0.66666667 0.75      ]\n",
      " [4.         2.5        2.         1.75      ]\n",
      " [8.         4.5        3.33333333 2.75      ]]\n"
     ]
    }
   ],
   "source": [
    "import numpy\n",
    "\n",
    "# Let's prepare two sets of data first\n",
    "data1 = numpy.arange(12).reshape((3, 4))\n",
    "data2 = numpy.array([1, 2, 3, 4])\n",
    "\n",
    "# Let's visualize the data first\n",
    "print(\"---------- Visualize Data ----------\")\n",
    "print(f\"data1:\\n{data1}\")\n",
    "print(f\"data2:\\n{data2}\")\n",
    "\n",
    "# Let's perform addition (same for subtraction)\n",
    "print(\"------------- Addition -------------\")\n",
    "print(f\"result(data1 + data2):\\n{data1 + data2}\")\n",
    "\n",
    "\"\"\"\n",
    "Note that:\n",
    "1. We performed a element-wised addition (same position).\n",
    "    i.e. result[0][0] = data[0][0] + data2[0]   < 1 = 0 + 1 >\n",
    "         result[0][1] = data[0][1] + data2[1]   < 3 = 1 + 2 >\n",
    "         ...\n",
    "2. data2 has less data than data1, for those missing data, [ 1, 2, 3, 4 ]\n",
    "    is used repeatedly.\n",
    "    i.e. result[1][0] = data[1][0] + data2[0]   < 5 = 4 + 1 >\n",
    "         result[1][1] = data[1][1] + data2[1]   < 7 = 5 + 2 >\n",
    "         ...\n",
    "!!! The behaviour mentioned in <2.> is so called 'broadcasting' !!!\n",
    "Broadcasting will automatically VIEW data2 as the following:\n",
    "[[ 1  2  3  4]\n",
    " [ 1  2  3  4]\n",
    " [ 1  2  3  4]]\n",
    "-> automatically repeating the missing dimension(s).\n",
    "Note that this is only 'VIEWED AS', data in data2 is NOT modified.\n",
    "More about 'broadcasting'? Please refer to ../LectureNotes(HKUST)/12-numpy.pdf [Page 36 - 43]\n",
    "\"\"\"\n",
    "\n",
    "# Let's perform multiplication (same for division)\n",
    "print(\"---------- Multiplication ----------\")\n",
    "print(f\"result(data1 * data2):\\n{data1 * data2}\")\n",
    "print(\"------------- Division -------------\")\n",
    "print(f\"result(data1 / data2):\\n{data1 / data2}\")\n",
    "\n",
    "\"\"\"\n",
    "Note that:\n",
    "1. Broadcasting (mentioned earlier) is still in force.\n",
    "2. After we broadcasted data2 to the shape of data1 (i.e. (3, 4)), \n",
    "    though they are two matrices, we perform element-wise multiplication.\n",
    "    (Hadamard product).\n",
    "!!! + - * / will ALWAYS perform element-wise operations.\n",
    "We will talk about matrix multiplication and dot product later.\n",
    "\"\"\"\n",
    "\n",
    "# Just in case you want to know, these function below is the actual\n",
    "# function called we you type '+ - * /' operators:\n",
    "# numpy.add(data1, data2)\n",
    "# numpy.subtract(data1, data2)\n",
    "# numpy.multiply(data1, data2)\n",
    "# numpy.divide(data1, data2)\n",
    "\n",
    "pass"
   ]
  },
  {
   "cell_type": "markdown",
   "id": "34e1a234",
   "metadata": {},
   "source": [
    "Matrix Operations (matmul() and dot())"
   ]
  },
  {
   "cell_type": "code",
   "execution_count": 7,
   "id": "2ca9caf9",
   "metadata": {},
   "outputs": [
    {
     "name": "stdout",
     "output_type": "stream",
     "text": [
      "---------- Visualize Data ----------\n",
      "identity:\n",
      "[[1. 0. 0.]\n",
      " [0. 1. 0.]\n",
      " [0. 0. 1.]]\n",
      "matrix:\n",
      "[[0 1 2]\n",
      " [3 4 5]\n",
      " [6 7 8]]\n",
      "vector:\n",
      "[0 1 2]\n",
      "scalar:\n",
      "10\n",
      "----------- Dot Product ------------\n",
      "vector * scalar:\n",
      "[ 0 10 20]\n",
      "vector * vector:\n",
      "5\n",
      "vector * matrix:\n",
      "[15 18 21]\n",
      "matrix * vector:\n",
      "[ 5 14 23]\n",
      "matrix.T * vector:\n",
      "[15 18 21]\n",
      "------------- Matmul() -------------\n",
      "matrix * identity:\n",
      "[[0. 1. 2.]\n",
      " [3. 4. 5.]\n",
      " [6. 7. 8.]]\n"
     ]
    }
   ],
   "source": [
    "import numpy\n",
    "\n",
    "# Again, let's create some data\n",
    "identity = numpy.identity(n = 3) # this is an indentity matrix of (3 * 3)\n",
    "matrix = numpy.arange(9).reshape((3, 3))\n",
    "vector = numpy.arange(3)\n",
    "scalar = numpy.array(object = 10)\n",
    "\n",
    "# Let's visualize the data we just created\n",
    "print(\"---------- Visualize Data ----------\")\n",
    "print(f\"identity:\\n{identity}\")\n",
    "print(f\"matrix:\\n{matrix}\")\n",
    "print(f\"vector:\\n{vector}\")\n",
    "print(f\"scalar:\\n{scalar}\")\n",
    "\n",
    "# Dot product for mat * \n",
    "print(\"----------- Dot Product ------------\")\n",
    "print(f\"vector * scalar:\\n{numpy.dot(a = vector, b = scalar)}\")\n",
    "print(f\"vector * vector:\\n{numpy.dot(a = vector, b = vector)}\")\n",
    "print(f\"vector * matrix:\\n{numpy.dot(a = vector, b = matrix)}\")\n",
    "print(f\"matrix * vector:\\n{numpy.dot(a = matrix, b = vector)}\")\n",
    "# Wow, the last one yields a different result. If we want to have the same result?\n",
    "# Yes, transpose !!! How to? use '.T':\n",
    "print(f\"matrix.T * vector:\\n{numpy.dot(a = matrix.T, b = vector)}\")\n",
    "\n",
    "# Finally, matrix multiplication\n",
    "print(\"------------- Matmul() -------------\")\n",
    "print(f\"matrix * identity:\\n{numpy.dot(a = matrix, b = identity)}\")\n",
    "# Of course, everything times identity is themself.\n",
    "\"\"\"\n",
    "Note that:\n",
    "Result now has a floating point type.\n",
    "i.e. at first matrix has value 0, 1, 2, ...\n",
    "    now the result is 0., 1., 2., ...\n",
    "The dot '.' after a number symbolizes it is a floating point number\n",
    "rather than an integer.\n",
    "This is because our identity matrix is in type float. int * float yields a float.\n",
    "(This is for precision purposes.)\n",
    "\"\"\"\n",
    "pass"
   ]
  }
 ],
 "metadata": {
  "kernelspec": {
   "display_name": "Python 3",
   "language": "python",
   "name": "python3"
  },
  "language_info": {
   "codemirror_mode": {
    "name": "ipython",
    "version": 3
   },
   "file_extension": ".py",
   "mimetype": "text/x-python",
   "name": "python",
   "nbconvert_exporter": "python",
   "pygments_lexer": "ipython3",
   "version": "3.12.1"
  }
 },
 "nbformat": 4,
 "nbformat_minor": 5
}
