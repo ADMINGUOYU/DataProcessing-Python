{
 "cells": [
  {
   "cell_type": "markdown",
   "id": "36050327",
   "metadata": {},
   "source": [
    "## **Pandas** - Panel Data | Python Data Analysis\n",
    "\n",
    "**Pandas** *(styled as **pandas**)* is a software library written for the Python programming language for data manipulation and analysis. In particular, it offers data structures and operations for manipulating numerical tables and time series. It is free software released under the three-clause BSD license. The name is derived from the term \"panel data\", an econometrics term for data sets that include observations over multiple time periods for the same individuals, as well as a play on the phrase \"Python data analysis\". Wes McKinney started building what would become Pandas at AQR Capital while he was a researcher there from 2007 to 2010.\n",
    "\n",
    "The development of Pandas introduced into Python many comparable features of working with DataFrames that were established in the R programming language. **The library is built upon another library, NumPy.** [pandas-wikipedia](https://en.wikipedia.org/wiki/Pandas_(software))\n",
    "\n",
    "---\n",
    "### Resources\n",
    "* [Official Page](https://pandas.pydata.org/)\n",
    "* [Official Docs](https://pandas.pydata.org/docs/)\n",
    "* Lecture Notes *(refer to ../LectureNotes(HKUST)/13-pandas.pdf)*"
   ]
  },
  {
   "cell_type": "markdown",
   "id": "b1cdbac7",
   "metadata": {},
   "source": [
    "### Pandas Series\n",
    "\n",
    "A Pandas Series is a one-dimensional **labeled array** in the Pandas library for Python. It is a fundamental data structure in Pandas and can be thought of as a single column of data in a spreadsheet or a single column within a Pandas DataFrame. \n",
    "\n",
    "p.s. **labeled array** means apart from using [x] to index, we can use ['name'] to do the same thing."
   ]
  },
  {
   "cell_type": "code",
   "execution_count": 1,
   "id": "3ab1cead",
   "metadata": {},
   "outputs": [
    {
     "name": "stdout",
     "output_type": "stream",
     "text": [
      "--------- Our First Series ---------\n",
      "family_name         LI\n",
      "given_name     Hantang\n",
      "gender            Male\n",
      "age                 19\n",
      "dtype: object\n"
     ]
    }
   ],
   "source": [
    "import pandas\n",
    "import numpy\n",
    "\n",
    "# Let's create a pandas series out of a numpy array\n",
    "data:numpy.ndarray = numpy.array(object = ['LI', 'Hantang', 'Male', 19])\n",
    "series = pandas.Series(data = data, index = ['family_name', 'given_name', 'gender', 'age'])\n",
    "\n",
    "# Let's print the series to have a peek into it\n",
    "print(\"--------- Our First Series ---------\")\n",
    "print(series)"
   ]
  },
  {
   "cell_type": "code",
   "execution_count": 2,
   "id": "ae77ddca",
   "metadata": {},
   "outputs": [
    {
     "name": "stdout",
     "output_type": "stream",
     "text": [
      "------------- Indexing -------------\n",
      "Your last name is: LI (using named index)\n",
      "Your first name is: Hantang (using numerical index)\n"
     ]
    }
   ],
   "source": [
    "# Indexing\n",
    "print(\"------------- Indexing -------------\")\n",
    "print(f\"Your last name is: {series.loc['family_name']} (using named index)\")\n",
    "print(f\"Your first name is: {series.iloc[1]} (using numerical index)\")\n",
    "\"\"\"\n",
    "Note that:\n",
    "1. <series object name>.loc[] needs to fill in your NAMED index;\n",
    "2. <series object name>.iloc[] needs to fill in the numerical index (just like an normal array).\n",
    "\"\"\"\n",
    "pass"
   ]
  },
  {
   "cell_type": "code",
   "execution_count": 3,
   "id": "e757e65c",
   "metadata": {},
   "outputs": [
    {
     "name": "stdout",
     "output_type": "stream",
     "text": [
      "------------- Slicing --------------\n",
      "Series containing your name:\n",
      "family_name         LI\n",
      "given_name     Hantang\n",
      "dtype: object\n",
      "Your 'real?' info:\n",
      "family_name    LIAN\n",
      "given_name     TANG\n",
      "gender         Male\n",
      "age              19\n",
      "dtype: object\n",
      "Modified info:\n",
      "family_name    LIAN\n",
      "given_name     TANG\n",
      "dtype: object\n"
     ]
    }
   ],
   "source": [
    "# Slicing (just like Python list, tuple and numpy ndarray)\n",
    "print(\"------------- Slicing --------------\")\n",
    "name_series = series.loc['family_name' : 'given_name']\n",
    "print(f\"Series containing your name:\\n{name_series}\")\n",
    "name_series.iloc[0] = \"LIAN\"\n",
    "name_series.iloc[1] = \"TANG\"\n",
    "print(f\"Your 'real?' info:\\n{series}\")\n",
    "print(f\"Modified info:\\n{name_series}\") # meaning that, it's also a view \n",
    "\"\"\"\n",
    "!!! Note that, unlike list and ndarray, \n",
    "When using .loc BOTH the starting and stopping indices are included in\n",
    "the slice.\n",
    ".iloc behaves like NumPy arrays and lists: specify the\n",
    "start position (included) and the end position (excluded).\n",
    "\"\"\"\n",
    "pass"
   ]
  },
  {
   "cell_type": "code",
   "execution_count": 4,
   "id": "e3b8fb23",
   "metadata": {},
   "outputs": [
    {
     "name": "stdout",
     "output_type": "stream",
     "text": [
      "------------- Masking --------------\n",
      "Mask:\n",
      "0    False\n",
      "1    False\n",
      "2    False\n",
      "3     True\n",
      "4     True\n",
      "5     True\n",
      "dtype: bool\n",
      "Masked Series:\n",
      "3    4\n",
      "4    5\n",
      "5    6\n",
      "dtype: int64\n"
     ]
    }
   ],
   "source": [
    "# Masking\n",
    "print(\"------------- Masking --------------\")\n",
    "numerical = pandas.Series(data = [1, 2, 3, 4, 5, 6]) # if no named index specified, 0, 1, ... will be used.\n",
    "mask = numerical > 3\n",
    "print(f\"Mask:\\n{mask}\")\n",
    "print(f\"Masked Series:\\n{numerical[mask]}\") # we don't use .loc[] and .iloc[] here"
   ]
  },
  {
   "cell_type": "markdown",
   "id": "85eb236d",
   "metadata": {},
   "source": [
    "### Pandas Dataframe\n",
    "\n",
    "A DataFrame is a powerful 2-dimensional data structure in Pandas, similar to a spreadsheet or SQL table.\n",
    "\n",
    "It consists of **rows and columns**, where **each column is a Series object** that can hold different data types but shares the same index.\n",
    "\n",
    "Each column in a DataFrame has a unique name, which allows for easy access and manipulation of the data.\n",
    "\n",
    "DataFrames are ideal for handling structured data and performing complex data analysis and manipulation tasks."
   ]
  },
  {
   "cell_type": "markdown",
   "id": "f6f37fd9",
   "metadata": {},
   "source": [
    "#### Create a DataFrame from Scratch"
   ]
  },
  {
   "cell_type": "markdown",
   "id": "ef65d71d",
   "metadata": {},
   "source": [
    "*Parameters: (Constructor of object)*\n",
    "```python\n",
    "pandas.DataFrame\n",
    "```\n",
    "> **data** : *ndarray (structured or homogeneous), Iterable, dict, or DataFrame*\n",
    ">     Dict can contain Series, arrays, constants, dataclass or list-like objects. If\n",
    ">     data is a dict, column order follows insertion-order. If a dict contains Series\n",
    ">     which have an index defined, it is aligned by its index. This alignment also\n",
    ">     occurs if data is a Series or a DataFrame itself. Alignment is done on\n",
    ">     Series/DataFrame inputs.\n",
    ">     If data is a list of dicts, column order follows insertion-order.\n",
    ">\n",
    "> **index** : *Index or array-like*\n",
    ">     Index to use for resulting frame. Will default to RangeIndex if\n",
    ">     no indexing information part of input data and no index provided.\n",
    ">\n",
    "> **columns** : *Index or array-like*\n",
    ">     Column labels to use for resulting frame when data does not have them,\n",
    ">     defaulting to RangeIndex(0, 1, 2, ..., n). If data contains column labels,\n",
    ">     will perform column selection instead.\n",
    ">\n",
    "> **dtype** : *dtype, default None*\n",
    ">     Data type to force. Only a single dtype is allowed. If None, infer.\n",
    ">\n",
    "> **copy** : *bool or None, default None*\n",
    ">     Copy data from inputs.\n",
    ">     For dict data, the default of None behaves like ``copy=True``.  For DataFrame\n",
    ">     or 2d ndarray input, the default of None behaves like ``copy=False``.\n",
    ">     If data is a dict containing one or more Series (possibly of different dtypes),\n",
    ">     ``copy=False`` will ensure that these inputs are not copied."
   ]
  },
  {
   "cell_type": "code",
   "execution_count": 5,
   "id": "db3e358e",
   "metadata": {},
   "outputs": [
    {
     "data": {
      "text/html": [
       "<div>\n",
       "<style scoped>\n",
       "    .dataframe tbody tr th:only-of-type {\n",
       "        vertical-align: middle;\n",
       "    }\n",
       "\n",
       "    .dataframe tbody tr th {\n",
       "        vertical-align: top;\n",
       "    }\n",
       "\n",
       "    .dataframe thead th {\n",
       "        text-align: right;\n",
       "    }\n",
       "</style>\n",
       "<table border=\"1\" class=\"dataframe\">\n",
       "  <thead>\n",
       "    <tr style=\"text-align: right;\">\n",
       "      <th></th>\n",
       "      <th>family_name</th>\n",
       "      <th>given_name</th>\n",
       "      <th>gender</th>\n",
       "      <th>age</th>\n",
       "    </tr>\n",
       "  </thead>\n",
       "  <tbody>\n",
       "    <tr>\n",
       "      <th>0</th>\n",
       "      <td>LEE</td>\n",
       "      <td>Hantang</td>\n",
       "      <td>Male</td>\n",
       "      <td>19</td>\n",
       "    </tr>\n",
       "    <tr>\n",
       "      <th>1</th>\n",
       "      <td>WONG</td>\n",
       "      <td>Zhengyang</td>\n",
       "      <td>Male</td>\n",
       "      <td>20</td>\n",
       "    </tr>\n",
       "    <tr>\n",
       "      <th>2</th>\n",
       "      <td>N/a</td>\n",
       "      <td>カスミ</td>\n",
       "      <td>Female</td>\n",
       "      <td>10</td>\n",
       "    </tr>\n",
       "  </tbody>\n",
       "</table>\n",
       "</div>"
      ],
      "text/plain": [
       "  family_name given_name  gender  age\n",
       "0         LEE    Hantang    Male   19\n",
       "1        WONG  Zhengyang    Male   20\n",
       "2         N/a        カスミ  Female   10"
      ]
     },
     "execution_count": 5,
     "metadata": {},
     "output_type": "execute_result"
    }
   ],
   "source": [
    "import pandas\n",
    "\n",
    "# some data first\n",
    "mr_candy = pandas.Series(data = ['LEE', 'Hantang', 'Male', 19], \\\n",
    "                         index = ['family_name', 'given_name', 'gender', 'age'])\n",
    "mr_joggy = pandas.Series(data = ['WONG', 'Zhengyang', 'Male', 20], \\\n",
    "                         index = ['family_name', 'given_name', 'gender', 'age'])\n",
    "ms_misty = pandas.Series(data = ['N/a', 'カスミ', 'Female', 10], \\\n",
    "                         index = ['family_name', 'given_name', 'gender', 'age'])\n",
    "\n",
    "# let's create a dataframe from scratch\n",
    "dataframe = pandas.DataFrame(data = [mr_candy, mr_joggy, ms_misty])\n",
    "\n",
    "# let's visualize\n",
    "dataframe"
   ]
  },
  {
   "cell_type": "code",
   "execution_count": 6,
   "id": "72ed835e",
   "metadata": {},
   "outputs": [
    {
     "data": {
      "text/html": [
       "<div>\n",
       "<style scoped>\n",
       "    .dataframe tbody tr th:only-of-type {\n",
       "        vertical-align: middle;\n",
       "    }\n",
       "\n",
       "    .dataframe tbody tr th {\n",
       "        vertical-align: top;\n",
       "    }\n",
       "\n",
       "    .dataframe thead th {\n",
       "        text-align: right;\n",
       "    }\n",
       "</style>\n",
       "<table border=\"1\" class=\"dataframe\">\n",
       "  <thead>\n",
       "    <tr style=\"text-align: right;\">\n",
       "      <th></th>\n",
       "      <th>family_name</th>\n",
       "      <th>given_name</th>\n",
       "      <th>gender</th>\n",
       "      <th>age</th>\n",
       "    </tr>\n",
       "  </thead>\n",
       "  <tbody>\n",
       "    <tr>\n",
       "      <th>0</th>\n",
       "      <td>LEE</td>\n",
       "      <td>Hantang</td>\n",
       "      <td>Male</td>\n",
       "      <td>19</td>\n",
       "    </tr>\n",
       "    <tr>\n",
       "      <th>1</th>\n",
       "      <td>WONG</td>\n",
       "      <td>Zhengyang</td>\n",
       "      <td>Male</td>\n",
       "      <td>20</td>\n",
       "    </tr>\n",
       "    <tr>\n",
       "      <th>2</th>\n",
       "      <td>N/a</td>\n",
       "      <td>カスミ</td>\n",
       "      <td>Female</td>\n",
       "      <td>10</td>\n",
       "    </tr>\n",
       "  </tbody>\n",
       "</table>\n",
       "</div>"
      ],
      "text/plain": [
       "  family_name given_name  gender  age\n",
       "0         LEE    Hantang    Male   19\n",
       "1        WONG  Zhengyang    Male   20\n",
       "2         N/a        カスミ  Female   10"
      ]
     },
     "execution_count": 6,
     "metadata": {},
     "output_type": "execute_result"
    }
   ],
   "source": [
    "import pandas\n",
    "\n",
    "# you can also insert by column (previously, row, or a single entry)\n",
    "family_names = pandas.Series(data = ['LEE', 'WONG', 'N/a'])\n",
    "given_names  = pandas.Series(data = ['Hantang', 'Zhengyang', 'カスミ'])\n",
    "genders      = pandas.Series(data = ['Male', 'Male', 'Female'])\n",
    "ages         = pandas.Series(data = [19, 20, 10])\n",
    "\n",
    "dataframe = pandas.DataFrame(data = \\\n",
    "                             {'family_name' : family_names,\n",
    "                              'given_name' : given_names,\n",
    "                              'gender' : genders,\n",
    "                              'age' : ages})\n",
    "\n",
    "# visualize\n",
    "dataframe"
   ]
  },
  {
   "cell_type": "code",
   "execution_count": 7,
   "id": "18509590",
   "metadata": {},
   "outputs": [
    {
     "data": {
      "text/html": [
       "<div>\n",
       "<style scoped>\n",
       "    .dataframe tbody tr th:only-of-type {\n",
       "        vertical-align: middle;\n",
       "    }\n",
       "\n",
       "    .dataframe tbody tr th {\n",
       "        vertical-align: top;\n",
       "    }\n",
       "\n",
       "    .dataframe thead th {\n",
       "        text-align: right;\n",
       "    }\n",
       "</style>\n",
       "<table border=\"1\" class=\"dataframe\">\n",
       "  <thead>\n",
       "    <tr style=\"text-align: right;\">\n",
       "      <th></th>\n",
       "      <th>family_name</th>\n",
       "      <th>given_name</th>\n",
       "      <th>gender</th>\n",
       "      <th>age</th>\n",
       "    </tr>\n",
       "  </thead>\n",
       "  <tbody>\n",
       "    <tr>\n",
       "      <th>person1</th>\n",
       "      <td>LEE</td>\n",
       "      <td>Hantang</td>\n",
       "      <td>NaN</td>\n",
       "      <td>19</td>\n",
       "    </tr>\n",
       "    <tr>\n",
       "      <th>person2</th>\n",
       "      <td>WONG</td>\n",
       "      <td>Zhengyang</td>\n",
       "      <td>Male</td>\n",
       "      <td>20</td>\n",
       "    </tr>\n",
       "    <tr>\n",
       "      <th>person3</th>\n",
       "      <td>NaN</td>\n",
       "      <td>カスミ</td>\n",
       "      <td>Female</td>\n",
       "      <td>10</td>\n",
       "    </tr>\n",
       "  </tbody>\n",
       "</table>\n",
       "</div>"
      ],
      "text/plain": [
       "        family_name given_name  gender  age\n",
       "person1         LEE    Hantang     NaN   19\n",
       "person2        WONG  Zhengyang    Male   20\n",
       "person3         NaN        カスミ  Female   10"
      ]
     },
     "execution_count": 7,
     "metadata": {},
     "output_type": "execute_result"
    }
   ],
   "source": [
    "import pandas\n",
    "\n",
    "# You can also create a dataframe with missing fields\n",
    "# Let's use the second format (column insertion)\n",
    "family_names = pandas.Series(data = ['LEE', 'WONG'], index = ['person1', 'person2'])\n",
    "given_names  = pandas.Series(data = ['Hantang', 'Zhengyang', 'カスミ'], index = ['person1', 'person2', 'person3'])\n",
    "genders      = pandas.Series(data = ['Male', 'Female'], index = ['person2', 'person3'])\n",
    "ages         = pandas.Series(data = [19, 20, 10], index = ['person1', 'person2', 'person3'])\n",
    "\n",
    "dataframe = pandas.DataFrame(data = \\\n",
    "                             {'family_name' : family_names,\n",
    "                              'given_name' : given_names,\n",
    "                              'gender' : genders,\n",
    "                              'age' : ages})\n",
    "\n",
    "# visualize\n",
    "dataframe"
   ]
  },
  {
   "cell_type": "markdown",
   "id": "eb5ff1f8",
   "metadata": {},
   "source": [
    "_Note:_\n",
    "* 'NaN' in the printed datafram symbolizes the missing field;\n",
    "* We can also use [Index] other than numerical sequences (i.e. 'person1', 'person2' ...)"
   ]
  },
  {
   "cell_type": "markdown",
   "id": "6510e84e",
   "metadata": {},
   "source": [
    "#### * Drop 'NaN's"
   ]
  },
  {
   "cell_type": "markdown",
   "id": "c8e98c7d",
   "metadata": {},
   "source": [
    "```python\n",
    "pandas.DataFrame.dropna()\n",
    "```\n",
    "**axis** : *{0 or 'index', 1 or 'columns'}*, default 0\n",
    "Determine if rows or columns which contain missing values are removed.\n",
    "\n",
    "> 0, or 'index' ⁠:⁠ Drop rows which contain missing values.\n",
    ">\n",
    "> 1, or 'columns' ⁠:⁠ Drop columns which contain missing value.\n",
    "> Only a single axis is allowed.\n",
    "\n",
    "**how** : *{'any', 'all'}*, default 'any'\n",
    "Determine if row or column is removed from DataFrame, when we have at least one NA or all NA.\n",
    "\n",
    "> 'any' ⁠:⁠ If any NA values are present, drop that row or column.\n",
    ">\n",
    "> 'all' ⁠:⁠ If all values are NA, drop that row or column.\n",
    "\n",
    "**inplace** : *bool*, default False\n",
    "Whether to modify the DataFrame rather than creating a new one.\n",
    "\n",
    "> This line of code will directly modify 'dataframe'\n",
    "> ```python\n",
    "> dataframe.dropna(axis = 0, how = 'any', inplace = True)\n",
    "> ```\n",
    "> While this will NOT (it returns a new modified DataFrame object)\n",
    "> ```python\n",
    "> <assign to a new object> = dataframe.dropna(axis = 0, how = 'any', inplace = False)\n",
    "> ```"
   ]
  },
  {
   "cell_type": "code",
   "execution_count": 8,
   "id": "7cc1fb83",
   "metadata": {},
   "outputs": [
    {
     "data": {
      "text/html": [
       "<div>\n",
       "<style scoped>\n",
       "    .dataframe tbody tr th:only-of-type {\n",
       "        vertical-align: middle;\n",
       "    }\n",
       "\n",
       "    .dataframe tbody tr th {\n",
       "        vertical-align: top;\n",
       "    }\n",
       "\n",
       "    .dataframe thead th {\n",
       "        text-align: right;\n",
       "    }\n",
       "</style>\n",
       "<table border=\"1\" class=\"dataframe\">\n",
       "  <thead>\n",
       "    <tr style=\"text-align: right;\">\n",
       "      <th></th>\n",
       "      <th>family_name</th>\n",
       "      <th>given_name</th>\n",
       "      <th>gender</th>\n",
       "      <th>age</th>\n",
       "    </tr>\n",
       "  </thead>\n",
       "  <tbody>\n",
       "    <tr>\n",
       "      <th>person2</th>\n",
       "      <td>WONG</td>\n",
       "      <td>Zhengyang</td>\n",
       "      <td>Male</td>\n",
       "      <td>20</td>\n",
       "    </tr>\n",
       "  </tbody>\n",
       "</table>\n",
       "</div>"
      ],
      "text/plain": [
       "        family_name given_name gender  age\n",
       "person2        WONG  Zhengyang   Male   20"
      ]
     },
     "execution_count": 8,
     "metadata": {},
     "output_type": "execute_result"
    }
   ],
   "source": [
    "\"\"\"\n",
    "You must run the previous cell first. (To get 'dataframe' initialized.)\n",
    "\"\"\"\n",
    "\n",
    "# You can use .dropna() to remove rows or columns with NaN\n",
    "dataframe.dropna(axis = 0, how = 'any', inplace = True)\n",
    "\n",
    "# visualize\n",
    "dataframe"
   ]
  },
  {
   "cell_type": "markdown",
   "id": "2427824c",
   "metadata": {},
   "source": [
    "#### Indexing a DataFrame\n",
    "\n",
    "In other words, 'accessing' a DataFrame"
   ]
  },
  {
   "cell_type": "code",
   "execution_count": 9,
   "id": "5df5f115",
   "metadata": {},
   "outputs": [
    {
     "data": {
      "text/html": [
       "<div>\n",
       "<style scoped>\n",
       "    .dataframe tbody tr th:only-of-type {\n",
       "        vertical-align: middle;\n",
       "    }\n",
       "\n",
       "    .dataframe tbody tr th {\n",
       "        vertical-align: top;\n",
       "    }\n",
       "\n",
       "    .dataframe thead th {\n",
       "        text-align: right;\n",
       "    }\n",
       "</style>\n",
       "<table border=\"1\" class=\"dataframe\">\n",
       "  <thead>\n",
       "    <tr style=\"text-align: right;\">\n",
       "      <th></th>\n",
       "      <th>family_name</th>\n",
       "      <th>given_name</th>\n",
       "      <th>gender</th>\n",
       "      <th>age</th>\n",
       "    </tr>\n",
       "  </thead>\n",
       "  <tbody>\n",
       "    <tr>\n",
       "      <th>mr_candy</th>\n",
       "      <td>LEE</td>\n",
       "      <td>Hantang</td>\n",
       "      <td>Male</td>\n",
       "      <td>19</td>\n",
       "    </tr>\n",
       "    <tr>\n",
       "      <th>mr_joggy</th>\n",
       "      <td>WONG</td>\n",
       "      <td>Zhengyang</td>\n",
       "      <td>Male</td>\n",
       "      <td>20</td>\n",
       "    </tr>\n",
       "    <tr>\n",
       "      <th>ms_misty</th>\n",
       "      <td>NaN</td>\n",
       "      <td>カスミ</td>\n",
       "      <td>Female</td>\n",
       "      <td>10</td>\n",
       "    </tr>\n",
       "  </tbody>\n",
       "</table>\n",
       "</div>"
      ],
      "text/plain": [
       "         family_name given_name  gender  age\n",
       "mr_candy         LEE    Hantang    Male   19\n",
       "mr_joggy        WONG  Zhengyang    Male   20\n",
       "ms_misty         NaN        カスミ  Female   10"
      ]
     },
     "execution_count": 9,
     "metadata": {},
     "output_type": "execute_result"
    }
   ],
   "source": [
    "import pandas\n",
    "\n",
    "# Again, some data first\n",
    "mr_candy = pandas.Series(data = ['LEE', 'Hantang', 'Male', 19], \\\n",
    "                         index = ['family_name', 'given_name', 'gender', 'age'])\n",
    "mr_joggy = pandas.Series(data = ['WONG', 'Zhengyang', 'Male', 20], \\\n",
    "                         index = ['family_name', 'given_name', 'gender', 'age'])\n",
    "ms_misty = pandas.Series(data = ['カスミ', 'Female', 10], \\\n",
    "                         index = ['given_name', 'gender', 'age'])   # in the format, for missing fields, simply ignore that index\n",
    "\n",
    "# And a dataframe\n",
    "dataframe = pandas.DataFrame(data = [mr_candy, mr_joggy, ms_misty], index = ['mr_candy', 'mr_joggy', 'ms_misty'])   # you can fill in the indexes here\n",
    "\n",
    "# let's visualize\n",
    "dataframe"
   ]
  },
  {
   "cell_type": "markdown",
   "id": "7a2dfc78",
   "metadata": {},
   "source": [
    "You can access a column of a DataFrame by specifying the column name in square\n",
    "brackets [ ].\n",
    "\n",
    "It returns a `pandas.Series` with the selected column."
   ]
  },
  {
   "cell_type": "code",
   "execution_count": 10,
   "id": "940308fe",
   "metadata": {},
   "outputs": [
    {
     "name": "stdout",
     "output_type": "stream",
     "text": [
      "mr_candy     LEE\n",
      "mr_joggy    WONG\n",
      "ms_misty     NaN\n",
      "Name: family_name, dtype: object\n"
     ]
    }
   ],
   "source": [
    "\"\"\"\n",
    "You must run the previous cell first. (To get 'dataframe' correctly set.)\n",
    "\"\"\"\n",
    "\n",
    "# obtain all family names (whole column)\n",
    "retrieved_family_names = dataframe['family_name']\n",
    "\n",
    "# visualize\n",
    "print(retrieved_family_names)\n",
    "\n",
    "# Noticed that the 'NaN' is an element in that Series"
   ]
  },
  {
   "cell_type": "markdown",
   "id": "66838d0a",
   "metadata": {},
   "source": [
    "You can access a single DataFrame row using the same methods as for Series:\n",
    "- .loc for label-based indexing\n",
    "- .iloc for position-based indexing\n",
    "\n",
    "It returns a `pandas.Series` with an element for each column.\n",
    "The index contains the names of the columns."
   ]
  },
  {
   "cell_type": "code",
   "execution_count": 11,
   "id": "926889ff",
   "metadata": {},
   "outputs": [
    {
     "name": "stdout",
     "output_type": "stream",
     "text": [
      "-------- retrieved_mr_candy --------\n",
      "family_name        LEE\n",
      "given_name     Hantang\n",
      "gender            Male\n",
      "age                 19\n",
      "Name: mr_candy, dtype: object\n",
      "-------- retrieved_ms_misty --------\n",
      "family_name       NaN\n",
      "given_name        カスミ\n",
      "gender         Female\n",
      "age                10\n",
      "Name: ms_misty, dtype: object\n"
     ]
    }
   ],
   "source": [
    "# obtain info for a single person (while row)\n",
    "retrieved_mr_candy = dataframe.loc['mr_candy']\n",
    "retrieved_ms_misty = dataframe.iloc[2]\n",
    "\n",
    "# visualize\n",
    "print(\"-------- retrieved_mr_candy --------\")\n",
    "print(retrieved_mr_candy)\n",
    "print(\"-------- retrieved_ms_misty --------\")\n",
    "print(retrieved_ms_misty)"
   ]
  },
  {
   "cell_type": "markdown",
   "id": "f4562104",
   "metadata": {},
   "source": [
    "You can access DataFrames with slicing by selecting rows and/or columns.\n",
    "\n",
    "You **cannot** mix position-based and label-based indexing.\n",
    "\n",
    "```python\n",
    "dataframe.loc[ <row>, <col> ]\n",
    "```"
   ]
  },
  {
   "cell_type": "code",
   "execution_count": 12,
   "id": "91165e8b",
   "metadata": {},
   "outputs": [
    {
     "data": {
      "text/html": [
       "<div>\n",
       "<style scoped>\n",
       "    .dataframe tbody tr th:only-of-type {\n",
       "        vertical-align: middle;\n",
       "    }\n",
       "\n",
       "    .dataframe tbody tr th {\n",
       "        vertical-align: top;\n",
       "    }\n",
       "\n",
       "    .dataframe thead th {\n",
       "        text-align: right;\n",
       "    }\n",
       "</style>\n",
       "<table border=\"1\" class=\"dataframe\">\n",
       "  <thead>\n",
       "    <tr style=\"text-align: right;\">\n",
       "      <th></th>\n",
       "      <th>family_name</th>\n",
       "      <th>given_name</th>\n",
       "    </tr>\n",
       "  </thead>\n",
       "  <tbody>\n",
       "    <tr>\n",
       "      <th>mr_candy</th>\n",
       "      <td>LEE</td>\n",
       "      <td>Hantang</td>\n",
       "    </tr>\n",
       "    <tr>\n",
       "      <th>mr_joggy</th>\n",
       "      <td>WONG</td>\n",
       "      <td>Zhengyang</td>\n",
       "    </tr>\n",
       "  </tbody>\n",
       "</table>\n",
       "</div>"
      ],
      "text/plain": [
       "         family_name given_name\n",
       "mr_candy         LEE    Hantang\n",
       "mr_joggy        WONG  Zhengyang"
      ]
     },
     "execution_count": 12,
     "metadata": {},
     "output_type": "execute_result"
    }
   ],
   "source": [
    "# obtain some entries from the dataframe\n",
    "retrieved_partial_dataframe = dataframe.loc[ 'mr_candy' : 'mr_joggy' , 'family_name' : 'given_name' ]\n",
    "\n",
    "# visualize\n",
    "retrieved_partial_dataframe"
   ]
  },
  {
   "cell_type": "markdown",
   "id": "0d8df693",
   "metadata": {},
   "source": [
    "You can also use masking to select rows based on a condition.\n",
    "\n",
    "You can combine masking with slicing.\n",
    "\n",
    "You have to specify a mask to select the rows based on a condition and then slice to\n",
    "select only the same columns."
   ]
  },
  {
   "cell_type": "code",
   "execution_count": 13,
   "id": "a5e4d7ae",
   "metadata": {},
   "outputs": [
    {
     "data": {
      "text/plain": [
       "mr_candy     True\n",
       "mr_joggy    False\n",
       "ms_misty    False\n",
       "dtype: bool"
      ]
     },
     "execution_count": 13,
     "metadata": {},
     "output_type": "execute_result"
    }
   ],
   "source": [
    "# Create a mask\n",
    "mask = \\\n",
    "    (dataframe['age'] >= 18 ) & \\\n",
    "    (dataframe['family_name'] != 'WONG')\n",
    "\n",
    "# visualize mask\n",
    "mask"
   ]
  },
  {
   "cell_type": "markdown",
   "id": "aaf3db2b",
   "metadata": {},
   "source": [
    "* _Note: operator '&' used here is 'AND'_\n",
    "- _True & True == True_\n",
    "- _True & False == False_\n",
    "- _False & True == False_\n",
    "- _False & False == False_\n",
    "\n",
    "* _For 'OR' operation, use '|'._"
   ]
  },
  {
   "cell_type": "code",
   "execution_count": 14,
   "id": "b847af80",
   "metadata": {},
   "outputs": [
    {
     "data": {
      "text/html": [
       "<div>\n",
       "<style scoped>\n",
       "    .dataframe tbody tr th:only-of-type {\n",
       "        vertical-align: middle;\n",
       "    }\n",
       "\n",
       "    .dataframe tbody tr th {\n",
       "        vertical-align: top;\n",
       "    }\n",
       "\n",
       "    .dataframe thead th {\n",
       "        text-align: right;\n",
       "    }\n",
       "</style>\n",
       "<table border=\"1\" class=\"dataframe\">\n",
       "  <thead>\n",
       "    <tr style=\"text-align: right;\">\n",
       "      <th></th>\n",
       "      <th>family_name</th>\n",
       "      <th>given_name</th>\n",
       "      <th>gender</th>\n",
       "      <th>age</th>\n",
       "    </tr>\n",
       "  </thead>\n",
       "  <tbody>\n",
       "    <tr>\n",
       "      <th>mr_candy</th>\n",
       "      <td>LEE</td>\n",
       "      <td>Hantang</td>\n",
       "      <td>Male</td>\n",
       "      <td>19</td>\n",
       "    </tr>\n",
       "  </tbody>\n",
       "</table>\n",
       "</div>"
      ],
      "text/plain": [
       "         family_name given_name gender  age\n",
       "mr_candy         LEE    Hantang   Male   19"
      ]
     },
     "execution_count": 14,
     "metadata": {},
     "output_type": "execute_result"
    }
   ],
   "source": [
    "dataframe[mask]"
   ]
  },
  {
   "cell_type": "code",
   "execution_count": 15,
   "id": "4e803714",
   "metadata": {},
   "outputs": [
    {
     "data": {
      "text/html": [
       "<div>\n",
       "<style scoped>\n",
       "    .dataframe tbody tr th:only-of-type {\n",
       "        vertical-align: middle;\n",
       "    }\n",
       "\n",
       "    .dataframe tbody tr th {\n",
       "        vertical-align: top;\n",
       "    }\n",
       "\n",
       "    .dataframe thead th {\n",
       "        text-align: right;\n",
       "    }\n",
       "</style>\n",
       "<table border=\"1\" class=\"dataframe\">\n",
       "  <thead>\n",
       "    <tr style=\"text-align: right;\">\n",
       "      <th></th>\n",
       "      <th>family_name</th>\n",
       "      <th>given_name</th>\n",
       "    </tr>\n",
       "  </thead>\n",
       "  <tbody>\n",
       "    <tr>\n",
       "      <th>mr_candy</th>\n",
       "      <td>LEE</td>\n",
       "      <td>Hantang</td>\n",
       "    </tr>\n",
       "  </tbody>\n",
       "</table>\n",
       "</div>"
      ],
      "text/plain": [
       "         family_name given_name\n",
       "mr_candy         LEE    Hantang"
      ]
     },
     "execution_count": 15,
     "metadata": {},
     "output_type": "execute_result"
    }
   ],
   "source": [
    "dataframe.loc[ mask, 'family_name' : 'given_name' ]"
   ]
  },
  {
   "cell_type": "markdown",
   "id": "6f8859a5",
   "metadata": {},
   "source": [
    "* _Note: The first one worked without using .loc[ ], doesn't mean the second one can work without it._\n",
    "\n",
    "* _Note: As masking is a different kind of 'selecting', the returned object is a DataFrame, not a Series._"
   ]
  },
  {
   "cell_type": "markdown",
   "id": "a76ed0e6",
   "metadata": {},
   "source": [
    "#### Adding rows or columns"
   ]
  },
  {
   "cell_type": "code",
   "execution_count": 16,
   "id": "c75a1cb8",
   "metadata": {},
   "outputs": [
    {
     "data": {
      "text/html": [
       "<div>\n",
       "<style scoped>\n",
       "    .dataframe tbody tr th:only-of-type {\n",
       "        vertical-align: middle;\n",
       "    }\n",
       "\n",
       "    .dataframe tbody tr th {\n",
       "        vertical-align: top;\n",
       "    }\n",
       "\n",
       "    .dataframe thead th {\n",
       "        text-align: right;\n",
       "    }\n",
       "</style>\n",
       "<table border=\"1\" class=\"dataframe\">\n",
       "  <thead>\n",
       "    <tr style=\"text-align: right;\">\n",
       "      <th></th>\n",
       "      <th>family_name</th>\n",
       "      <th>given_name</th>\n",
       "      <th>gender</th>\n",
       "      <th>age</th>\n",
       "    </tr>\n",
       "  </thead>\n",
       "  <tbody>\n",
       "    <tr>\n",
       "      <th>mr_candy</th>\n",
       "      <td>LEE</td>\n",
       "      <td>Hantang</td>\n",
       "      <td>Male</td>\n",
       "      <td>19</td>\n",
       "    </tr>\n",
       "    <tr>\n",
       "      <th>mr_joggy</th>\n",
       "      <td>WONG</td>\n",
       "      <td>Zhengyang</td>\n",
       "      <td>Male</td>\n",
       "      <td>20</td>\n",
       "    </tr>\n",
       "    <tr>\n",
       "      <th>ms_misty</th>\n",
       "      <td>NaN</td>\n",
       "      <td>カスミ</td>\n",
       "      <td>Female</td>\n",
       "      <td>10</td>\n",
       "    </tr>\n",
       "  </tbody>\n",
       "</table>\n",
       "</div>"
      ],
      "text/plain": [
       "         family_name given_name  gender  age\n",
       "mr_candy         LEE    Hantang    Male   19\n",
       "mr_joggy        WONG  Zhengyang    Male   20\n",
       "ms_misty         NaN        カスミ  Female   10"
      ]
     },
     "execution_count": 16,
     "metadata": {},
     "output_type": "execute_result"
    }
   ],
   "source": [
    "import pandas\n",
    "\n",
    "# Again, some data first\n",
    "mr_candy = pandas.Series(data = ['LEE', 'Hantang', 'Male', 19], \\\n",
    "                         index = ['family_name', 'given_name', 'gender', 'age'])\n",
    "mr_joggy = pandas.Series(data = ['WONG', 'Zhengyang', 'Male', 20], \\\n",
    "                         index = ['family_name', 'given_name', 'gender', 'age'])\n",
    "ms_misty = pandas.Series(data = ['カスミ', 'Female', 10], \\\n",
    "                         index = ['given_name', 'gender', 'age'])   # in the format, for missing fields, simply ignore that index\n",
    "\n",
    "# And a dataframe\n",
    "dataframe = pandas.DataFrame(data = [mr_candy, mr_joggy, ms_misty], index = ['mr_candy', 'mr_joggy', 'ms_misty'])   # you can fill in the indexes here\n",
    "\n",
    "# let's visualize\n",
    "dataframe"
   ]
  },
  {
   "cell_type": "markdown",
   "id": "540e883f",
   "metadata": {},
   "source": [
    "```python\n",
    "pandas.DataFrame.insert()\n",
    "```\n",
    "\n",
    "**loc** : *int*\n",
    "Insertion index. Must verify 0 <= loc <= len(columns).\n",
    "\n",
    "**column** : *str, number, or hashable object*\n",
    "Label of the inserted column.\n",
    "\n",
    "**value** : *Scalar, Series, or array-like*\n",
    "Content of the inserted column.\n",
    "\n",
    "**allow_duplicates** : *bool*, optional, default lib.no_default\n",
    "Allow duplicate column labels to be created."
   ]
  },
  {
   "cell_type": "code",
   "execution_count": 17,
   "id": "5344c60b",
   "metadata": {},
   "outputs": [
    {
     "data": {
      "text/html": [
       "<div>\n",
       "<style scoped>\n",
       "    .dataframe tbody tr th:only-of-type {\n",
       "        vertical-align: middle;\n",
       "    }\n",
       "\n",
       "    .dataframe tbody tr th {\n",
       "        vertical-align: top;\n",
       "    }\n",
       "\n",
       "    .dataframe thead th {\n",
       "        text-align: right;\n",
       "    }\n",
       "</style>\n",
       "<table border=\"1\" class=\"dataframe\">\n",
       "  <thead>\n",
       "    <tr style=\"text-align: right;\">\n",
       "      <th></th>\n",
       "      <th>family_name</th>\n",
       "      <th>given_name</th>\n",
       "      <th>gender</th>\n",
       "      <th>age</th>\n",
       "      <th>interest</th>\n",
       "    </tr>\n",
       "  </thead>\n",
       "  <tbody>\n",
       "    <tr>\n",
       "      <th>mr_candy</th>\n",
       "      <td>LEE</td>\n",
       "      <td>Hantang</td>\n",
       "      <td>Male</td>\n",
       "      <td>19</td>\n",
       "      <td>chemistry</td>\n",
       "    </tr>\n",
       "    <tr>\n",
       "      <th>mr_joggy</th>\n",
       "      <td>WONG</td>\n",
       "      <td>Zhengyang</td>\n",
       "      <td>Male</td>\n",
       "      <td>20</td>\n",
       "      <td>anatomy</td>\n",
       "    </tr>\n",
       "    <tr>\n",
       "      <th>ms_misty</th>\n",
       "      <td>NaN</td>\n",
       "      <td>カスミ</td>\n",
       "      <td>Female</td>\n",
       "      <td>10</td>\n",
       "      <td>Pokémon</td>\n",
       "    </tr>\n",
       "  </tbody>\n",
       "</table>\n",
       "</div>"
      ],
      "text/plain": [
       "         family_name given_name  gender  age   interest\n",
       "mr_candy         LEE    Hantang    Male   19  chemistry\n",
       "mr_joggy        WONG  Zhengyang    Male   20    anatomy\n",
       "ms_misty         NaN        カスミ  Female   10    Pokémon"
      ]
     },
     "execution_count": 17,
     "metadata": {},
     "output_type": "execute_result"
    }
   ],
   "source": [
    "# Prepare data for a new column\n",
    "interest = pandas.Series(data = ['chemistry', 'anatomy', 'Pokémon'], index = ['mr_candy', 'mr_joggy', 'ms_misty'])\n",
    "\n",
    "# Adding a column\n",
    "dataframe.insert(loc = len(dataframe.columns), column = 'interest', value = interest)\n",
    "\n",
    "# visualize\n",
    "dataframe"
   ]
  },
  {
   "cell_type": "markdown",
   "id": "f930a572",
   "metadata": {},
   "source": [
    "* _Note: `len(dataframe.columns)` gives the total count of the columns._"
   ]
  },
  {
   "cell_type": "code",
   "execution_count": 18,
   "id": "9f602e84",
   "metadata": {},
   "outputs": [
    {
     "data": {
      "text/html": [
       "<div>\n",
       "<style scoped>\n",
       "    .dataframe tbody tr th:only-of-type {\n",
       "        vertical-align: middle;\n",
       "    }\n",
       "\n",
       "    .dataframe tbody tr th {\n",
       "        vertical-align: top;\n",
       "    }\n",
       "\n",
       "    .dataframe thead th {\n",
       "        text-align: right;\n",
       "    }\n",
       "</style>\n",
       "<table border=\"1\" class=\"dataframe\">\n",
       "  <thead>\n",
       "    <tr style=\"text-align: right;\">\n",
       "      <th></th>\n",
       "      <th>family_name</th>\n",
       "      <th>given_name</th>\n",
       "      <th>gender</th>\n",
       "      <th>age</th>\n",
       "      <th>interest</th>\n",
       "      <th>happiness</th>\n",
       "    </tr>\n",
       "  </thead>\n",
       "  <tbody>\n",
       "    <tr>\n",
       "      <th>mr_candy</th>\n",
       "      <td>LEE</td>\n",
       "      <td>Hantang</td>\n",
       "      <td>Male</td>\n",
       "      <td>19</td>\n",
       "      <td>chemistry</td>\n",
       "      <td>100</td>\n",
       "    </tr>\n",
       "    <tr>\n",
       "      <th>mr_joggy</th>\n",
       "      <td>WONG</td>\n",
       "      <td>Zhengyang</td>\n",
       "      <td>Male</td>\n",
       "      <td>20</td>\n",
       "      <td>anatomy</td>\n",
       "      <td>50</td>\n",
       "    </tr>\n",
       "    <tr>\n",
       "      <th>ms_misty</th>\n",
       "      <td>NaN</td>\n",
       "      <td>カスミ</td>\n",
       "      <td>Female</td>\n",
       "      <td>10</td>\n",
       "      <td>Pokémon</td>\n",
       "      <td>9999</td>\n",
       "    </tr>\n",
       "  </tbody>\n",
       "</table>\n",
       "</div>"
      ],
      "text/plain": [
       "         family_name given_name  gender  age   interest  happiness\n",
       "mr_candy         LEE    Hantang    Male   19  chemistry        100\n",
       "mr_joggy        WONG  Zhengyang    Male   20    anatomy         50\n",
       "ms_misty         NaN        カスミ  Female   10    Pokémon       9999"
      ]
     },
     "execution_count": 18,
     "metadata": {},
     "output_type": "execute_result"
    }
   ],
   "source": [
    "# You can also use the following format\n",
    "\n",
    "# Prepare data for a new column\n",
    "happiness = pandas.Series(data = [100, 50, 9999], index = ['mr_candy', 'mr_joggy', 'ms_misty'])\n",
    "\n",
    "# Adding a column\n",
    "dataframe['happiness'] = happiness\n",
    "\n",
    "# visualize\n",
    "dataframe"
   ]
  },
  {
   "cell_type": "markdown",
   "id": "7139441e",
   "metadata": {},
   "source": [
    "Adding a row is a bit harder.\n",
    "\n",
    "- First option: use `dataframe.loc[len(dataframe)] = <new data>`\n",
    "- Second option: use `pandas.concat()`"
   ]
  },
  {
   "cell_type": "code",
   "execution_count": 19,
   "id": "b88e3914",
   "metadata": {},
   "outputs": [
    {
     "data": {
      "text/html": [
       "<div>\n",
       "<style scoped>\n",
       "    .dataframe tbody tr th:only-of-type {\n",
       "        vertical-align: middle;\n",
       "    }\n",
       "\n",
       "    .dataframe tbody tr th {\n",
       "        vertical-align: top;\n",
       "    }\n",
       "\n",
       "    .dataframe thead th {\n",
       "        text-align: right;\n",
       "    }\n",
       "</style>\n",
       "<table border=\"1\" class=\"dataframe\">\n",
       "  <thead>\n",
       "    <tr style=\"text-align: right;\">\n",
       "      <th></th>\n",
       "      <th>family_name</th>\n",
       "      <th>given_name</th>\n",
       "      <th>gender</th>\n",
       "      <th>age</th>\n",
       "      <th>interest</th>\n",
       "      <th>happiness</th>\n",
       "    </tr>\n",
       "  </thead>\n",
       "  <tbody>\n",
       "    <tr>\n",
       "      <th>mr_candy</th>\n",
       "      <td>LEE</td>\n",
       "      <td>Hantang</td>\n",
       "      <td>Male</td>\n",
       "      <td>19</td>\n",
       "      <td>chemistry</td>\n",
       "      <td>100</td>\n",
       "    </tr>\n",
       "    <tr>\n",
       "      <th>mr_joggy</th>\n",
       "      <td>WONG</td>\n",
       "      <td>Zhengyang</td>\n",
       "      <td>Male</td>\n",
       "      <td>20</td>\n",
       "      <td>anatomy</td>\n",
       "      <td>50</td>\n",
       "    </tr>\n",
       "    <tr>\n",
       "      <th>ms_misty</th>\n",
       "      <td>NaN</td>\n",
       "      <td>カスミ</td>\n",
       "      <td>Female</td>\n",
       "      <td>10</td>\n",
       "      <td>Pokémon</td>\n",
       "      <td>9999</td>\n",
       "    </tr>\n",
       "    <tr>\n",
       "      <th>3</th>\n",
       "      <td>Biden</td>\n",
       "      <td>James</td>\n",
       "      <td>Male</td>\n",
       "      <td>100</td>\n",
       "      <td>mystery</td>\n",
       "      <td>0</td>\n",
       "    </tr>\n",
       "  </tbody>\n",
       "</table>\n",
       "</div>"
      ],
      "text/plain": [
       "         family_name given_name  gender  age   interest  happiness\n",
       "mr_candy         LEE    Hantang    Male   19  chemistry        100\n",
       "mr_joggy        WONG  Zhengyang    Male   20    anatomy         50\n",
       "ms_misty         NaN        カスミ  Female   10    Pokémon       9999\n",
       "3              Biden      James    Male  100    mystery          0"
      ]
     },
     "execution_count": 19,
     "metadata": {},
     "output_type": "execute_result"
    }
   ],
   "source": [
    "# Prepare a new row (entry)\n",
    "mr_james = pandas.Series(data = ['Biden', 'James', 'Male', 100, 'mystery', 0], \\\n",
    "                         index = ['family_name', 'given_name', 'gender', 'age', 'interest', 'happiness'])\n",
    "\n",
    "# Insert\n",
    "dataframe.loc[len(dataframe)] = mr_james\n",
    "\n",
    "# visualize\n",
    "dataframe\n",
    "\n",
    "# Note that you cannot specify index name here"
   ]
  }
 ],
 "metadata": {
  "kernelspec": {
   "display_name": "Python 3",
   "language": "python",
   "name": "python3"
  },
  "language_info": {
   "codemirror_mode": {
    "name": "ipython",
    "version": 3
   },
   "file_extension": ".py",
   "mimetype": "text/x-python",
   "name": "python",
   "nbconvert_exporter": "python",
   "pygments_lexer": "ipython3",
   "version": "3.12.1"
  }
 },
 "nbformat": 4,
 "nbformat_minor": 5
}
