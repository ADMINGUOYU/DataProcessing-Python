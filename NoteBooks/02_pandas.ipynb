{
 "cells": [
  {
   "cell_type": "markdown",
   "id": "36050327",
   "metadata": {},
   "source": [
    "## **Pandas** - Panel Data | Python Data Analysis\n",
    "\n",
    "**Pandas** *(styled as **pandas**)* is a software library written for the Python programming language for data manipulation and analysis. In particular, it offers data structures and operations for manipulating numerical tables and time series. It is free software released under the three-clause BSD license. The name is derived from the term \"panel data\", an econometrics term for data sets that include observations over multiple time periods for the same individuals, as well as a play on the phrase \"Python data analysis\". Wes McKinney started building what would become Pandas at AQR Capital while he was a researcher there from 2007 to 2010.\n",
    "\n",
    "The development of Pandas introduced into Python many comparable features of working with DataFrames that were established in the R programming language. **The library is built upon another library, NumPy.** [pandas-wikipedia](https://en.wikipedia.org/wiki/Pandas_(software))\n",
    "\n",
    "---\n",
    "### Resources\n",
    "* [Official Page](https://pandas.pydata.org/)\n",
    "* [Official Docs](https://pandas.pydata.org/docs/)\n",
    "* Lecture Notes *(refer to ../LectureNotes(HKUST)/13-pandas.pdf)*"
   ]
  }
 ],
 "metadata": {
  "language_info": {
   "name": "python"
  }
 },
 "nbformat": 4,
 "nbformat_minor": 5
}
