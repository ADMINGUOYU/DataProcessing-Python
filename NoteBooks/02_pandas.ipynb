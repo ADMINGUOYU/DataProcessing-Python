{
 "cells": [
  {
   "cell_type": "markdown",
   "id": "36050327",
   "metadata": {},
   "source": [
    "## **Pandas** - Panel Data | Python Data Analysis\n",
    "\n",
    "**Pandas** *(styled as **pandas**)* is a software library written for the Python programming language for data manipulation and analysis. In particular, it offers data structures and operations for manipulating numerical tables and time series. It is free software released under the three-clause BSD license. The name is derived from the term \"panel data\", an econometrics term for data sets that include observations over multiple time periods for the same individuals, as well as a play on the phrase \"Python data analysis\". Wes McKinney started building what would become Pandas at AQR Capital while he was a researcher there from 2007 to 2010.\n",
    "\n",
    "The development of Pandas introduced into Python many comparable features of working with DataFrames that were established in the R programming language. **The library is built upon another library, NumPy.** [pandas-wikipedia](https://en.wikipedia.org/wiki/Pandas_(software))\n",
    "\n",
    "---\n",
    "### Resources\n",
    "* [Official Page](https://pandas.pydata.org/)\n",
    "* [Official Docs](https://pandas.pydata.org/docs/)\n",
    "* Lecture Notes *(refer to ../LectureNotes(HKUST)/13-pandas.pdf)*"
   ]
  },
  {
   "cell_type": "markdown",
   "id": "b1cdbac7",
   "metadata": {},
   "source": [
    "### Pandas Series\n",
    "\n",
    "A Pandas Series is a one-dimensional **labeled array** in the Pandas library for Python. It is a fundamental data structure in Pandas and can be thought of as a single column of data in a spreadsheet or a single column within a Pandas DataFrame. \n",
    "\n",
    "p.s. **labeled array** means apart from using [x] to index, we can use ['name'] to do the same thing."
   ]
  },
  {
   "cell_type": "code",
   "execution_count": 1,
   "id": "3ab1cead",
   "metadata": {},
   "outputs": [
    {
     "name": "stdout",
     "output_type": "stream",
     "text": [
      "--------- Our First Series ---------\n",
      "family_name         LI\n",
      "given_name     Hantang\n",
      "gender            Male\n",
      "age                 19\n",
      "dtype: object\n"
     ]
    }
   ],
   "source": [
    "import pandas\n",
    "import numpy\n",
    "\n",
    "# Let's create a pandas series out of a numpy array\n",
    "data:numpy.ndarray = numpy.array(object = ['LI', 'Hantang', 'Male', 19])\n",
    "series = pandas.Series(data = data, index = ['family_name', 'given_name', 'gender', 'age'])\n",
    "\n",
    "# Let's print the series to have a peek into it\n",
    "print(\"--------- Our First Series ---------\")\n",
    "print(series)"
   ]
  },
  {
   "cell_type": "code",
   "execution_count": 2,
   "id": "ae77ddca",
   "metadata": {},
   "outputs": [
    {
     "name": "stdout",
     "output_type": "stream",
     "text": [
      "------------- Indexing -------------\n",
      "Your last name is: LI (using named index)\n",
      "Your first name is: Hantang (using numerical index)\n"
     ]
    }
   ],
   "source": [
    "# Indexing\n",
    "print(\"------------- Indexing -------------\")\n",
    "print(f\"Your last name is: {series.loc['family_name']} (using named index)\")\n",
    "print(f\"Your first name is: {series.iloc[1]} (using numerical index)\")\n",
    "\"\"\"\n",
    "Note that:\n",
    "1. <series object name>.loc[] needs to fill in your NAMED index;\n",
    "2. <series object name>.iloc[] needs to fill in the numerical index (just like an normal array).\n",
    "\"\"\"\n",
    "pass"
   ]
  },
  {
   "cell_type": "code",
   "execution_count": 3,
   "id": "e757e65c",
   "metadata": {},
   "outputs": [
    {
     "name": "stdout",
     "output_type": "stream",
     "text": [
      "------------- Slicing --------------\n",
      "Series containing your name:\n",
      "family_name         LI\n",
      "given_name     Hantang\n",
      "dtype: object\n",
      "Your 'real?' info:\n",
      "family_name    LIAN\n",
      "given_name     TANG\n",
      "gender         Male\n",
      "age              19\n",
      "dtype: object\n",
      "Modified info:\n",
      "family_name    LIAN\n",
      "given_name     TANG\n",
      "dtype: object\n"
     ]
    }
   ],
   "source": [
    "# Slicing (just like Python list, tuple and numpy ndarray)\n",
    "print(\"------------- Slicing --------------\")\n",
    "name_series = series.loc['family_name' : 'given_name']\n",
    "print(f\"Series containing your name:\\n{name_series}\")\n",
    "name_series.iloc[0] = \"LIAN\"\n",
    "name_series.iloc[1] = \"TANG\"\n",
    "print(f\"Your 'real?' info:\\n{series}\")\n",
    "print(f\"Modified info:\\n{name_series}\") # meaning that, it's also a view \n",
    "\"\"\"\n",
    "!!! Note that, unlike list and ndarray, \n",
    "When using .loc BOTH the starting and stopping indices are included in\n",
    "the slice.\n",
    ".iloc behaves like NumPy arrays and lists: specify the\n",
    "start position (included) and the end position (excluded).\n",
    "\"\"\"\n",
    "pass"
   ]
  },
  {
   "cell_type": "code",
   "execution_count": 4,
   "id": "e3b8fb23",
   "metadata": {},
   "outputs": [
    {
     "name": "stdout",
     "output_type": "stream",
     "text": [
      "------------- Masking --------------\n",
      "Mask:\n",
      "0    False\n",
      "1    False\n",
      "2    False\n",
      "3     True\n",
      "4     True\n",
      "5     True\n",
      "dtype: bool\n",
      "Masked Series:\n",
      "3    4\n",
      "4    5\n",
      "5    6\n",
      "dtype: int64\n"
     ]
    }
   ],
   "source": [
    "# Masking\n",
    "print(\"------------- Masking --------------\")\n",
    "numerical = pandas.Series(data = [1, 2, 3, 4, 5, 6]) # if no named index specified, 0, 1, ... will be used.\n",
    "mask = numerical > 3\n",
    "print(f\"Mask:\\n{mask}\")\n",
    "print(f\"Masked Series:\\n{numerical[mask]}\") # we don't use .loc[] and .iloc[] here"
   ]
  },
  {
   "cell_type": "markdown",
   "id": "85eb236d",
   "metadata": {},
   "source": [
    "### Pandas Dataframe\n",
    "\n",
    "A DataFrame is a powerful 2-dimensional data structure in Pandas, similar to a spreadsheet or SQL table.\n",
    "\n",
    "It consists of **rows and columns**, where **each column is a Series object** that can hold different data types but shares the same index.\n",
    "\n",
    "Each column in a DataFrame has a unique name, which allows for easy access and manipulation of the data.\n",
    "\n",
    "DataFrames are ideal for handling structured data and performing complex data analysis and manipulation tasks."
   ]
  },
  {
   "cell_type": "markdown",
   "id": "ef65d71d",
   "metadata": {},
   "source": [
    "*Parameters: (Constructor of object)*\n",
    "```python\n",
    "pandas.DataFrame\n",
    "```\n",
    "> **data** : *ndarray (structured or homogeneous), Iterable, dict, or DataFrame*\n",
    ">     Dict can contain Series, arrays, constants, dataclass or list-like objects. If\n",
    ">     data is a dict, column order follows insertion-order. If a dict contains Series\n",
    ">     which have an index defined, it is aligned by its index. This alignment also\n",
    ">     occurs if data is a Series or a DataFrame itself. Alignment is done on\n",
    ">     Series/DataFrame inputs.\n",
    ">     If data is a list of dicts, column order follows insertion-order.\n",
    ">\n",
    "> **index** : *Index or array-like*\n",
    ">     Index to use for resulting frame. Will default to RangeIndex if\n",
    ">     no indexing information part of input data and no index provided.\n",
    ">\n",
    "> **columns** : *Index or array-like*\n",
    ">     Column labels to use for resulting frame when data does not have them,\n",
    ">     defaulting to RangeIndex(0, 1, 2, ..., n). If data contains column labels,\n",
    ">     will perform column selection instead.\n",
    ">\n",
    "> **dtype** : *dtype, default None*\n",
    ">     Data type to force. Only a single dtype is allowed. If None, infer.\n",
    ">\n",
    "> **copy** : *bool or None, default None*\n",
    ">     Copy data from inputs.\n",
    ">     For dict data, the default of None behaves like ``copy=True``.  For DataFrame\n",
    ">     or 2d ndarray input, the default of None behaves like ``copy=False``.\n",
    ">     If data is a dict containing one or more Series (possibly of different dtypes),\n",
    ">     ``copy=False`` will ensure that these inputs are not copied."
   ]
  },
  {
   "cell_type": "code",
   "execution_count": 5,
   "id": "db3e358e",
   "metadata": {},
   "outputs": [
    {
     "data": {
      "text/html": [
       "<div>\n",
       "<style scoped>\n",
       "    .dataframe tbody tr th:only-of-type {\n",
       "        vertical-align: middle;\n",
       "    }\n",
       "\n",
       "    .dataframe tbody tr th {\n",
       "        vertical-align: top;\n",
       "    }\n",
       "\n",
       "    .dataframe thead th {\n",
       "        text-align: right;\n",
       "    }\n",
       "</style>\n",
       "<table border=\"1\" class=\"dataframe\">\n",
       "  <thead>\n",
       "    <tr style=\"text-align: right;\">\n",
       "      <th></th>\n",
       "      <th>family_name</th>\n",
       "      <th>given_name</th>\n",
       "      <th>gender</th>\n",
       "      <th>age</th>\n",
       "    </tr>\n",
       "  </thead>\n",
       "  <tbody>\n",
       "    <tr>\n",
       "      <th>0</th>\n",
       "      <td>LEE</td>\n",
       "      <td>Hantang</td>\n",
       "      <td>Male</td>\n",
       "      <td>19</td>\n",
       "    </tr>\n",
       "    <tr>\n",
       "      <th>1</th>\n",
       "      <td>WONG</td>\n",
       "      <td>Zhengyang</td>\n",
       "      <td>Male</td>\n",
       "      <td>20</td>\n",
       "    </tr>\n",
       "    <tr>\n",
       "      <th>2</th>\n",
       "      <td>N/a</td>\n",
       "      <td>カスミ</td>\n",
       "      <td>Female</td>\n",
       "      <td>10</td>\n",
       "    </tr>\n",
       "  </tbody>\n",
       "</table>\n",
       "</div>"
      ],
      "text/plain": [
       "  family_name given_name  gender  age\n",
       "0         LEE    Hantang    Male   19\n",
       "1        WONG  Zhengyang    Male   20\n",
       "2         N/a        カスミ  Female   10"
      ]
     },
     "execution_count": 5,
     "metadata": {},
     "output_type": "execute_result"
    }
   ],
   "source": [
    "import pandas\n",
    "\n",
    "# some data first\n",
    "mr_candy = pandas.Series(data = ['LEE', 'Hantang', 'Male', 19], \\\n",
    "                         index = ['family_name', 'given_name', 'gender', 'age'])\n",
    "mr_joggy = pandas.Series(data = ['WONG', 'Zhengyang', 'Male', 20], \\\n",
    "                         index = ['family_name', 'given_name', 'gender', 'age'])\n",
    "mr_misty = pandas.Series(data = ['N/a', 'カスミ', 'Female', 10], \\\n",
    "                         index = ['family_name', 'given_name', 'gender', 'age'])\n",
    "\n",
    "# let's create a dataframe from scratch\n",
    "dataframe = pandas.DataFrame(data = [mr_candy, mr_joggy, mr_misty])\n",
    "\n",
    "# let's visualize\n",
    "dataframe"
   ]
  },
  {
   "cell_type": "code",
   "execution_count": 6,
   "id": "72ed835e",
   "metadata": {},
   "outputs": [
    {
     "data": {
      "text/html": [
       "<div>\n",
       "<style scoped>\n",
       "    .dataframe tbody tr th:only-of-type {\n",
       "        vertical-align: middle;\n",
       "    }\n",
       "\n",
       "    .dataframe tbody tr th {\n",
       "        vertical-align: top;\n",
       "    }\n",
       "\n",
       "    .dataframe thead th {\n",
       "        text-align: right;\n",
       "    }\n",
       "</style>\n",
       "<table border=\"1\" class=\"dataframe\">\n",
       "  <thead>\n",
       "    <tr style=\"text-align: right;\">\n",
       "      <th></th>\n",
       "      <th>family_name</th>\n",
       "      <th>given_name</th>\n",
       "      <th>gender</th>\n",
       "      <th>age</th>\n",
       "    </tr>\n",
       "  </thead>\n",
       "  <tbody>\n",
       "    <tr>\n",
       "      <th>0</th>\n",
       "      <td>LEE</td>\n",
       "      <td>Hantang</td>\n",
       "      <td>Male</td>\n",
       "      <td>19</td>\n",
       "    </tr>\n",
       "    <tr>\n",
       "      <th>1</th>\n",
       "      <td>WONG</td>\n",
       "      <td>Zhengyang</td>\n",
       "      <td>Male</td>\n",
       "      <td>20</td>\n",
       "    </tr>\n",
       "    <tr>\n",
       "      <th>2</th>\n",
       "      <td>N/a</td>\n",
       "      <td>カスミ</td>\n",
       "      <td>Female</td>\n",
       "      <td>10</td>\n",
       "    </tr>\n",
       "  </tbody>\n",
       "</table>\n",
       "</div>"
      ],
      "text/plain": [
       "  family_name given_name  gender  age\n",
       "0         LEE    Hantang    Male   19\n",
       "1        WONG  Zhengyang    Male   20\n",
       "2         N/a        カスミ  Female   10"
      ]
     },
     "execution_count": 6,
     "metadata": {},
     "output_type": "execute_result"
    }
   ],
   "source": [
    "import pandas\n",
    "\n",
    "# you can also insert by column (previously, row, or a single entry)\n",
    "family_names = pandas.Series(data = ['LEE', 'WONG', 'N/a'])\n",
    "given_names  = pandas.Series(data = ['Hantang', 'Zhengyang', 'カスミ'])\n",
    "genders      = pandas.Series(data = ['Male', 'Male', 'Female'])\n",
    "ages         = pandas.Series(data = [19, 20, 10])\n",
    "\n",
    "dataframe = pandas.DataFrame(data = \\\n",
    "                             {'family_name' : family_names,\n",
    "                              'given_name' : given_names,\n",
    "                              'gender' : genders,\n",
    "                              'age' : ages})\n",
    "\n",
    "# visualize\n",
    "dataframe"
   ]
  }
 ],
 "metadata": {
  "kernelspec": {
   "display_name": "Python 3",
   "language": "python",
   "name": "python3"
  },
  "language_info": {
   "codemirror_mode": {
    "name": "ipython",
    "version": 3
   },
   "file_extension": ".py",
   "mimetype": "text/x-python",
   "name": "python",
   "nbconvert_exporter": "python",
   "pygments_lexer": "ipython3",
   "version": "3.12.1"
  }
 },
 "nbformat": 4,
 "nbformat_minor": 5
}
