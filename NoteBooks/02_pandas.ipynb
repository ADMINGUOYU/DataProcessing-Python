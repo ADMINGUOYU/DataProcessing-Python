{
 "cells": [
  {
   "cell_type": "markdown",
   "id": "36050327",
   "metadata": {},
   "source": [
    "## **Pandas** - Panel Data | Python Data Analysis\n",
    "\n",
    "**Pandas** *(styled as **pandas**)* is a software library written for the Python programming language for data manipulation and analysis. In particular, it offers data structures and operations for manipulating numerical tables and time series. It is free software released under the three-clause BSD license. The name is derived from the term \"panel data\", an econometrics term for data sets that include observations over multiple time periods for the same individuals, as well as a play on the phrase \"Python data analysis\". Wes McKinney started building what would become Pandas at AQR Capital while he was a researcher there from 2007 to 2010.\n",
    "\n",
    "The development of Pandas introduced into Python many comparable features of working with DataFrames that were established in the R programming language. **The library is built upon another library, NumPy.** [pandas-wikipedia](https://en.wikipedia.org/wiki/Pandas_(software))\n",
    "\n",
    "---\n",
    "### Resources\n",
    "* [Official Page](https://pandas.pydata.org/)\n",
    "* [Official Docs](https://pandas.pydata.org/docs/)\n",
    "* Lecture Notes *(refer to ../LectureNotes(HKUST)/13-pandas.pdf)*"
   ]
  },
  {
   "cell_type": "markdown",
   "id": "b1cdbac7",
   "metadata": {},
   "source": [
    "### Pandas Series\n",
    "\n",
    "A Pandas Series is a one-dimensional **labeled array** in the Pandas library for Python. It is a fundamental data structure in Pandas and can be thought of as a single column of data in a spreadsheet or a single column within a Pandas DataFrame. \n",
    "\n",
    "p.s. **labeled array** means apart from using [x] to index, we can use ['name'] to do the same thing."
   ]
  },
  {
   "cell_type": "code",
   "execution_count": 1,
   "id": "3ab1cead",
   "metadata": {},
   "outputs": [
    {
     "name": "stdout",
     "output_type": "stream",
     "text": [
      "--------- Our First Series ---------\n",
      "family_name         LI\n",
      "given_name     Hantang\n",
      "gender            Male\n",
      "age                 19\n",
      "dtype: object\n",
      "------------- Indexing -------------\n",
      "Your last name is: LI (using named index)\n",
      "Your first name is: Hantang (using numerical index)\n",
      "------------- Slicing --------------\n",
      "Series containing your name:\n",
      "family_name         LI\n",
      "given_name     Hantang\n",
      "dtype: object\n",
      "Your 'real?' info:\n",
      "family_name    LIAN\n",
      "given_name     TANG\n",
      "gender         Male\n",
      "age              19\n",
      "dtype: object\n",
      "Modified info:\n",
      "family_name    LIAN\n",
      "given_name     TANG\n",
      "dtype: object\n",
      "------------- Masking --------------\n",
      "Mask:\n",
      "0    False\n",
      "1    False\n",
      "2    False\n",
      "3     True\n",
      "4     True\n",
      "5     True\n",
      "dtype: bool\n",
      "Masked Series:\n",
      "3    4\n",
      "4    5\n",
      "5    6\n",
      "dtype: int64\n"
     ]
    }
   ],
   "source": [
    "import pandas\n",
    "import numpy\n",
    "\n",
    "# Let's create a pandas series out of a numpy array\n",
    "data:numpy.ndarray = numpy.array(object = ['LI', 'Hantang', 'Male', 19])\n",
    "series = pandas.Series(data = data, index = ['family_name', 'given_name', 'gender', 'age'])\n",
    "\n",
    "# Let's print the series to have a peek into it\n",
    "print(\"--------- Our First Series ---------\")\n",
    "print(series)\n",
    "\n",
    "# Indexing\n",
    "print(\"------------- Indexing -------------\")\n",
    "print(f\"Your last name is: {series.loc['family_name']} (using named index)\")\n",
    "print(f\"Your first name is: {series.iloc[1]} (using numerical index)\")\n",
    "\"\"\"\n",
    "Note that:\n",
    "1. <series object name>.loc[] needs to fill in your NAMED index;\n",
    "2. <series object name>.iloc[] needs to fill in the numerical index (just like an normal array).\n",
    "\"\"\"\n",
    "\n",
    "# Slicing (just like Python list, tuple and numpy ndarray)\n",
    "print(\"------------- Slicing --------------\")\n",
    "name_series = series.loc['family_name' : 'given_name']\n",
    "print(f\"Series containing your name:\\n{name_series}\")\n",
    "name_series.iloc[0] = \"LIAN\"\n",
    "name_series.iloc[1] = \"TANG\"\n",
    "print(f\"Your 'real?' info:\\n{series}\")\n",
    "print(f\"Modified info:\\n{name_series}\") # meaning that, it's also a view \n",
    "\"\"\"\n",
    "!!! Note that, unlike list and ndarray, \n",
    "When using .loc BOTH the starting and stopping indices are included in\n",
    "the slice.\n",
    ".iloc behaves like NumPy arrays and lists: specify the\n",
    "start position (included) and the end position (excluded).\n",
    "\"\"\"\n",
    "\n",
    "# Masking\n",
    "print(\"------------- Masking --------------\")\n",
    "numerical = pandas.Series(data = [1, 2, 3, 4, 5, 6]) # if no named index specified, 0, 1, ... will be used.\n",
    "mask = numerical > 3\n",
    "print(f\"Mask:\\n{mask}\")\n",
    "print(f\"Masked Series:\\n{numerical[mask]}\") # we don't use .loc[] and .iloc[] here"
   ]
  },
  {
   "cell_type": "markdown",
   "id": "85eb236d",
   "metadata": {},
   "source": [
    "### Pandas Dataframe\n",
    "\n",
    "A DataFrame is a powerful 2-dimensional data structure in Pandas, similar to a spreadsheet or SQL table.\n",
    "\n",
    "It consists of **rows and columns**, where **each column is a Series object** that can hold different data types but shares the same index.\n",
    "\n",
    "Each column in a DataFrame has a unique name, which allows for easy access and manipulation of the data.\n",
    "\n",
    "DataFrames are ideal for handling structured data and performing complex data analysis and manipulation tasks."
   ]
  }
 ],
 "metadata": {
  "kernelspec": {
   "display_name": "Python 3",
   "language": "python",
   "name": "python3"
  },
  "language_info": {
   "codemirror_mode": {
    "name": "ipython",
    "version": 3
   },
   "file_extension": ".py",
   "mimetype": "text/x-python",
   "name": "python",
   "nbconvert_exporter": "python",
   "pygments_lexer": "ipython3",
   "version": "3.12.1"
  }
 },
 "nbformat": 4,
 "nbformat_minor": 5
}
